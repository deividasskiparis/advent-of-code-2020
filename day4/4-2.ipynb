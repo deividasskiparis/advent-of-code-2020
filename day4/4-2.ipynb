{
 "cells": [
  {
   "cell_type": "code",
   "execution_count": 122,
   "metadata": {},
   "outputs": [],
   "source": [
    "import pandas as pd\n",
    "import numpy as np"
   ]
  },
  {
   "cell_type": "code",
   "execution_count": 1,
   "metadata": {},
   "outputs": [],
   "source": [
    "with open(\"input4.txt\") as f:\n",
    "    input_list = [l.strip() for l in f.readlines()]"
   ]
  },
  {
   "cell_type": "code",
   "execution_count": 2,
   "metadata": {},
   "outputs": [
    {
     "data": {
      "text/plain": [
       "'byr:1983 iyr:2017'"
      ]
     },
     "execution_count": 2,
     "metadata": {},
     "output_type": "execute_result"
    }
   ],
   "source": [
    "input_list[0]"
   ]
  },
  {
   "cell_type": "code",
   "execution_count": 4,
   "metadata": {},
   "outputs": [],
   "source": [
    "passports = []\n",
    "passport = []\n",
    "\n",
    "for row in input_list:\n",
    "    if not row == \"\":\n",
    "        passport += row.split()\n",
    "    else:\n",
    "        passports.append(passport)\n",
    "        passport = []\n",
    "        \n",
    "\n",
    "passports.append(passport)"
   ]
  },
  {
   "cell_type": "code",
   "execution_count": 5,
   "metadata": {},
   "outputs": [
    {
     "data": {
      "text/plain": [
       "296"
      ]
     },
     "execution_count": 5,
     "metadata": {},
     "output_type": "execute_result"
    }
   ],
   "source": [
    "len(passports)"
   ]
  },
  {
   "cell_type": "code",
   "execution_count": 6,
   "metadata": {},
   "outputs": [
    {
     "data": {
      "text/plain": [
       "['byr:1983',\n",
       " 'iyr:2017',\n",
       " 'pid:796082981',\n",
       " 'cid:129',\n",
       " 'eyr:2030',\n",
       " 'ecl:oth',\n",
       " 'hgt:182cm']"
      ]
     },
     "execution_count": 6,
     "metadata": {},
     "output_type": "execute_result"
    }
   ],
   "source": [
    "passports[0]"
   ]
  },
  {
   "cell_type": "code",
   "execution_count": 7,
   "metadata": {},
   "outputs": [],
   "source": [
    "required_fields = [\"byr\", \"iyr\", \"eyr\", \"hgt\", \"hcl\", \"ecl\", \"pid\"]"
   ]
  },
  {
   "cell_type": "code",
   "execution_count": 8,
   "metadata": {},
   "outputs": [],
   "source": [
    "def validate(passport):\n",
    "    try:\n",
    "        values = {i.split(\":\", 1)[0]: i.split(\":\", 1)[1] for i in passport}\n",
    "        \n",
    "        byr = int(values['byr'])\n",
    "        byr_valid = (byr >= 1920) & (byr <= 2002)\n",
    "        \n",
    "        iyr = int(values['iyr'])\n",
    "        iyr_valid = (iyr >= 2010) & (iyr <= 2020)    \n",
    "\n",
    "        eyr = int(values['eyr'])\n",
    "        eyr_valid = (eyr >= 2020) & (eyr <= 2030)\n",
    "\n",
    "        hgt = values['hgt']\n",
    "        if hgt[-2:] == \"cm\":\n",
    "            hgt_valid = (int(hgt[:-2]) >= 150) & (int(hgt[:-2]) <= 193)\n",
    "        elif hgt[-2:] == \"in\":\n",
    "            hgt_valid = (int(hgt[:-2]) >= 59) & (int(hgt[:-2]) <= 76)\n",
    "        else:\n",
    "            hgt_valid = False\n",
    "\n",
    "        hcl = values['hcl']\n",
    "        import re\n",
    "        if re.search(r'^#[0-9a-f]{6}$', hcl):\n",
    "            hcl_valid = True\n",
    "        else:\n",
    "            hcl_valid = False\n",
    "\n",
    "        ecl = values['ecl']\n",
    "        ecl_valid = ecl in [\"amb\", \"blu\", \"brn\", \"gry\", \"grn\", \"hzl\", \"oth\"]\n",
    "\n",
    "        pid = values['pid']        \n",
    "        pid_valid = bool(int(pid)) & (len(pid) == 9)\n",
    "\n",
    "        return byr_valid & iyr_valid & eyr_valid & hgt_valid & hcl_valid & ecl_valid & pid_valid\n",
    "    \n",
    "    except:\n",
    "        return False"
   ]
  },
  {
   "cell_type": "code",
   "execution_count": 9,
   "metadata": {},
   "outputs": [
    {
     "data": {
      "text/plain": [
       "188"
      ]
     },
     "execution_count": 9,
     "metadata": {},
     "output_type": "execute_result"
    }
   ],
   "source": [
    "valid_passport = 0\n",
    "\n",
    "for passport in passports:\n",
    "    field_names = [i.split(\":\", 1)[0] for i in passport]\n",
    "    \n",
    "    diff =  set(required_fields) - set(field_names)\n",
    "    if len(diff) == 0:\n",
    "        if validate(passport):\n",
    "            valid_passport += 1\n",
    "\n",
    "valid_passport"
   ]
  },
  {
   "cell_type": "code",
   "execution_count": null,
   "metadata": {},
   "outputs": [],
   "source": []
  }
 ],
 "metadata": {
  "kernelspec": {
   "display_name": "Python 3",
   "language": "python",
   "name": "python3"
  },
  "language_info": {
   "codemirror_mode": {
    "name": "ipython",
    "version": 3
   },
   "file_extension": ".py",
   "mimetype": "text/x-python",
   "name": "python",
   "nbconvert_exporter": "python",
   "pygments_lexer": "ipython3",
   "version": "3.8.5"
  }
 },
 "nbformat": 4,
 "nbformat_minor": 4
}
