{
 "cells": [
  {
   "cell_type": "markdown",
   "metadata": {},
   "source": [
    "# Part 1"
   ]
  },
  {
   "cell_type": "code",
   "execution_count": 1,
   "metadata": {},
   "outputs": [],
   "source": [
    "import pandas as pd\n",
    "import numpy as np"
   ]
  },
  {
   "cell_type": "code",
   "execution_count": 2,
   "metadata": {},
   "outputs": [],
   "source": [
    "with open(\"input7.txt\") as f:\n",
    "    input_list = [l.strip() for l in f.readlines()]"
   ]
  },
  {
   "cell_type": "code",
   "execution_count": 3,
   "metadata": {},
   "outputs": [
    {
     "data": {
      "text/plain": [
       "'muted lavender bags contain 5 dull brown bags, 4 pale maroon bags, 2 drab orange bags.'"
      ]
     },
     "execution_count": 3,
     "metadata": {},
     "output_type": "execute_result"
    }
   ],
   "source": [
    "input_list[0]"
   ]
  },
  {
   "cell_type": "code",
   "execution_count": 4,
   "metadata": {},
   "outputs": [],
   "source": [
    "import re\n",
    "\n",
    "colors = {}\n",
    "for l in input_list:\n",
    "    color_name, inside_colors = l.split(\"bags contain\")[0], l.split(\"bags contain\")[1]\n",
    "    color_name, inside_colors = color_name.strip(), inside_colors.strip()\n",
    "    inside_colors_parsed = [c for c in re.split(r\"\\W+bag[s]?\\W+\", inside_colors) if len(c) > 0]\n",
    "    \n",
    "    inside_colors_dict = {}\n",
    "    for inside_color in inside_colors_parsed:\n",
    "        if not inside_color == \"no other\":\n",
    "            split = inside_color.split(' ', 1)\n",
    "            count, color = split[0], split[1]\n",
    "            inside_colors_dict[color] = int(count)\n",
    "    \n",
    "    colors[color_name] = inside_colors_dict"
   ]
  },
  {
   "cell_type": "code",
   "execution_count": 5,
   "metadata": {},
   "outputs": [],
   "source": [
    "def contains_color(bags_dict):\n",
    "    if len(bags_dict) == 0:\n",
    "        return False\n",
    "    \n",
    "    if \"shiny gold\" in bags_dict:\n",
    "        return True\n",
    "    \n",
    "    return any([contains_color(colors[color_name]) for color_name in bags_dict.keys()])\n"
   ]
  },
  {
   "cell_type": "code",
   "execution_count": 6,
   "metadata": {},
   "outputs": [],
   "source": [
    "shiny_gold_options = 0\n",
    "\n",
    "for color, values in colors.items():\n",
    "    if contains_color(values):\n",
    "        shiny_gold_options +=1"
   ]
  },
  {
   "cell_type": "code",
   "execution_count": 7,
   "metadata": {},
   "outputs": [
    {
     "data": {
      "text/plain": [
       "248"
      ]
     },
     "execution_count": 7,
     "metadata": {},
     "output_type": "execute_result"
    }
   ],
   "source": [
    "shiny_gold_options"
   ]
  },
  {
   "cell_type": "markdown",
   "metadata": {},
   "source": [
    "# Part 2"
   ]
  },
  {
   "cell_type": "code",
   "execution_count": 8,
   "metadata": {},
   "outputs": [
    {
     "data": {
      "text/plain": [
       "{'wavy gold': 3, 'plaid chartreuse': 2, 'shiny lime': 2, 'dull indigo': 5}"
      ]
     },
     "execution_count": 8,
     "metadata": {},
     "output_type": "execute_result"
    }
   ],
   "source": [
    "colors['shiny gold']"
   ]
  },
  {
   "cell_type": "code",
   "execution_count": 9,
   "metadata": {},
   "outputs": [],
   "source": [
    "def color_counts(bags_dict):\n",
    "    if len(bags_dict) == 0:\n",
    "        return 0\n",
    "    \n",
    "    group = []\n",
    "    for color, count in bags_dict.items():\n",
    "        count_per_bag = count + (count * color_counts(colors[color]))\n",
    "        group.append(count_per_bag)\n",
    "    \n",
    "    return np.sum(group)"
   ]
  },
  {
   "cell_type": "code",
   "execution_count": 10,
   "metadata": {},
   "outputs": [
    {
     "data": {
      "text/plain": [
       "57281"
      ]
     },
     "execution_count": 10,
     "metadata": {},
     "output_type": "execute_result"
    }
   ],
   "source": [
    "color_counts(colors['shiny gold'])"
   ]
  },
  {
   "cell_type": "code",
   "execution_count": null,
   "metadata": {},
   "outputs": [],
   "source": []
  }
 ],
 "metadata": {
  "kernelspec": {
   "display_name": "Python 3",
   "language": "python",
   "name": "python3"
  },
  "language_info": {
   "codemirror_mode": {
    "name": "ipython",
    "version": 3
   },
   "file_extension": ".py",
   "mimetype": "text/x-python",
   "name": "python",
   "nbconvert_exporter": "python",
   "pygments_lexer": "ipython3",
   "version": "3.8.5"
  }
 },
 "nbformat": 4,
 "nbformat_minor": 4
}
