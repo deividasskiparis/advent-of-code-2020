{
 "cells": [
  {
   "cell_type": "markdown",
   "metadata": {},
   "source": [
    "# Part 1"
   ]
  },
  {
   "cell_type": "markdown",
   "metadata": {},
   "source": [
    "import pandas as pd\n",
    "import numpy as np"
   ]
  },
  {
   "cell_type": "code",
   "execution_count": 56,
   "metadata": {},
   "outputs": [],
   "source": [
    "with open(\"input5.txt\") as f:\n",
    "    input_list = [l.strip() for l in f.readlines()]"
   ]
  },
  {
   "cell_type": "code",
   "execution_count": 57,
   "metadata": {},
   "outputs": [
    {
     "data": {
      "text/plain": [
       "'BFBBFFFLRR'"
      ]
     },
     "execution_count": 57,
     "metadata": {},
     "output_type": "execute_result"
    }
   ],
   "source": [
    "input_list[0]"
   ]
  },
  {
   "cell_type": "code",
   "execution_count": 107,
   "metadata": {},
   "outputs": [],
   "source": [
    "def get_row(instructions, rows):\n",
    "    if instructions == \"F\":\n",
    "        return rows[0]\n",
    "    elif instructions == \"B\":\n",
    "        return rows[-1]\n",
    "    else:\n",
    "        if instructions[0] == \"F\":\n",
    "            return get_row(instructions[1:], rows[:(len(rows) // 2)])\n",
    "        if instructions[0] == \"B\":\n",
    "            return get_row(instructions[1:], rows[(len(rows) // 2):])\n",
    "        else:\n",
    "            raise ValueError(\"wat row\")\n",
    "    "
   ]
  },
  {
   "cell_type": "code",
   "execution_count": 108,
   "metadata": {},
   "outputs": [],
   "source": [
    "def get_seat(instructions, seats):\n",
    "    if instructions == \"L\":\n",
    "        return seats[0]\n",
    "    elif instructions == \"R\":\n",
    "        return seats[-1]\n",
    "    else:\n",
    "        if instructions[0] == \"L\":\n",
    "            return get_seat(instructions[1:], seats[:(len(seats) // 2)])\n",
    "        if instructions[0] == \"R\":\n",
    "            return get_seat(instructions[1:], seats[(len(seats) // 2):])\n",
    "        else:\n",
    "            raise ValueError(\"wat seats\")\n",
    "    "
   ]
  },
  {
   "cell_type": "code",
   "execution_count": 109,
   "metadata": {},
   "outputs": [],
   "source": [
    "def get_seat_id(instructions):\n",
    "    row = get_row(instructions[:7], list(range(128)))\n",
    "    seat = get_seat(instructions[7:], list(range(8)))\n",
    "    return row, seat, row*8+seat"
   ]
  },
  {
   "cell_type": "code",
   "execution_count": null,
   "metadata": {},
   "outputs": [],
   "source": []
  },
  {
   "cell_type": "code",
   "execution_count": 110,
   "metadata": {},
   "outputs": [],
   "source": [
    "ids = [get_seat_id(inst)[2] for inst in input_list]"
   ]
  },
  {
   "cell_type": "code",
   "execution_count": 111,
   "metadata": {},
   "outputs": [
    {
     "data": {
      "text/plain": [
       "911"
      ]
     },
     "execution_count": 111,
     "metadata": {},
     "output_type": "execute_result"
    }
   ],
   "source": [
    "np.max(ids)"
   ]
  },
  {
   "cell_type": "markdown",
   "metadata": {},
   "source": [
    "# Part 2"
   ]
  },
  {
   "cell_type": "code",
   "execution_count": 120,
   "metadata": {},
   "outputs": [],
   "source": [
    "all_ids = list(range(np.min(ids), np.max(ids) + 1))"
   ]
  },
  {
   "cell_type": "code",
   "execution_count": 121,
   "metadata": {},
   "outputs": [
    {
     "data": {
      "text/plain": [
       "{629}"
      ]
     },
     "execution_count": 121,
     "metadata": {},
     "output_type": "execute_result"
    }
   ],
   "source": [
    "set(all_ids) - set(ids)"
   ]
  },
  {
   "cell_type": "code",
   "execution_count": null,
   "metadata": {},
   "outputs": [],
   "source": []
  }
 ],
 "metadata": {
  "kernelspec": {
   "display_name": "Python 3",
   "language": "python",
   "name": "python3"
  },
  "language_info": {
   "codemirror_mode": {
    "name": "ipython",
    "version": 3
   },
   "file_extension": ".py",
   "mimetype": "text/x-python",
   "name": "python",
   "nbconvert_exporter": "python",
   "pygments_lexer": "ipython3",
   "version": "3.8.5"
  }
 },
 "nbformat": 4,
 "nbformat_minor": 4
}
