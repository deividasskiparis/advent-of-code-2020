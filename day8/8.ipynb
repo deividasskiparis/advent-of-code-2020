{
 "cells": [
  {
   "cell_type": "markdown",
   "metadata": {},
   "source": [
    "# Part 1"
   ]
  },
  {
   "cell_type": "code",
   "execution_count": 26,
   "metadata": {},
   "outputs": [],
   "source": [
    "import pandas as pd\n",
    "import numpy as np"
   ]
  },
  {
   "cell_type": "code",
   "execution_count": 27,
   "metadata": {},
   "outputs": [],
   "source": [
    "with open(\"input8.txt\") as f:\n",
    "    input_list = [l.strip() for l in f.readlines()]"
   ]
  },
  {
   "cell_type": "code",
   "execution_count": 28,
   "metadata": {},
   "outputs": [
    {
     "data": {
      "text/plain": [
       "'jmp +27'"
      ]
     },
     "execution_count": 28,
     "metadata": {},
     "output_type": "execute_result"
    }
   ],
   "source": [
    "input_list[0]"
   ]
  },
  {
   "cell_type": "code",
   "execution_count": 29,
   "metadata": {},
   "outputs": [],
   "source": [
    "instructions = [l.split(\" \", 1) for l in input_list]"
   ]
  },
  {
   "cell_type": "code",
   "execution_count": 30,
   "metadata": {},
   "outputs": [
    {
     "data": {
      "text/plain": [
       "[['jmp', '+27'],\n",
       " ['acc', '+32'],\n",
       " ['acc', '+10'],\n",
       " ['acc', '+23'],\n",
       " ['jmp', '+88']]"
      ]
     },
     "execution_count": 30,
     "metadata": {},
     "output_type": "execute_result"
    }
   ],
   "source": [
    "instructions[:5]"
   ]
  },
  {
   "cell_type": "code",
   "execution_count": 31,
   "metadata": {},
   "outputs": [],
   "source": [
    "accumulator = 0\n",
    "execute_idx = 0\n",
    "executed_idxs = []\n",
    "\n",
    "while True:\n",
    "    if execute_idx in executed_idxs:\n",
    "        break\n",
    "    i = instructions[execute_idx]\n",
    "    executed_idxs.append(execute_idx)\n",
    "    \n",
    "    command, value = i[0], int(i[1])\n",
    "\n",
    "    if command == \"jmp\":\n",
    "        execute_idx += value\n",
    "    elif command == \"nop\":\n",
    "        execute_idx += 1\n",
    "    elif command == \"acc\":\n",
    "        accumulator += value\n",
    "        execute_idx += 1\n",
    "    \n"
   ]
  },
  {
   "cell_type": "code",
   "execution_count": 32,
   "metadata": {},
   "outputs": [
    {
     "data": {
      "text/plain": [
       "1487"
      ]
     },
     "execution_count": 32,
     "metadata": {},
     "output_type": "execute_result"
    }
   ],
   "source": [
    "accumulator"
   ]
  },
  {
   "cell_type": "code",
   "execution_count": null,
   "metadata": {},
   "outputs": [],
   "source": []
  },
  {
   "cell_type": "code",
   "execution_count": 34,
   "metadata": {},
   "outputs": [],
   "source": [
    "def program_finishes(instructions_): \n",
    "    accumulator = 0\n",
    "    execute_idx = 0\n",
    "    executed_idxs = []\n",
    "\n",
    "    while True:\n",
    "        if execute_idx in executed_idxs:\n",
    "            return False, accumulator\n",
    "        \n",
    "        i = instructions_[execute_idx]\n",
    "        executed_idxs.append(execute_idx)\n",
    "\n",
    "        command, value = i[0], int(i[1])\n",
    "\n",
    "        if command == \"jmp\":\n",
    "            execute_idx += value\n",
    "        elif command == \"nop\":\n",
    "            execute_idx += 1\n",
    "        elif command == \"acc\":\n",
    "            accumulator += value\n",
    "            execute_idx += 1\n",
    "    \n",
    "        if execute_idx >= len(instructions_):\n",
    "            return True, accumulator\n",
    "    "
   ]
  },
  {
   "cell_type": "code",
   "execution_count": 41,
   "metadata": {},
   "outputs": [
    {
     "data": {
      "text/plain": [
       "(False, 1487)"
      ]
     },
     "execution_count": 41,
     "metadata": {},
     "output_type": "execute_result"
    }
   ],
   "source": [
    "program_finishes(instructions)"
   ]
  },
  {
   "cell_type": "code",
   "execution_count": 50,
   "metadata": {},
   "outputs": [],
   "source": [
    "last_idx = len(input_list)\n",
    "finished = False\n",
    "\n",
    "for idx in range(last_idx):\n",
    "    i = instructions[idx]\n",
    "    command, value = i[0], i[1]\n",
    "    if command == \"jmp\":\n",
    "        instructions_copy = instructions.copy()\n",
    "        instructions_copy[idx] = [\"nop\", value]\n",
    "        finished, acc = program_finishes(instructions_copy)\n",
    "    elif command == \"nop\":\n",
    "        instructions_copy = instructions.copy()\n",
    "        instructions_copy[idx] = [\"jmp\", value]\n",
    "        \n",
    "        finished, acc = program_finishes(instructions_copy)\n",
    "\n",
    "    if finished:\n",
    "        break"
   ]
  },
  {
   "cell_type": "code",
   "execution_count": 51,
   "metadata": {},
   "outputs": [
    {
     "data": {
      "text/plain": [
       "1607"
      ]
     },
     "execution_count": 51,
     "metadata": {},
     "output_type": "execute_result"
    }
   ],
   "source": [
    "acc"
   ]
  },
  {
   "cell_type": "code",
   "execution_count": null,
   "metadata": {},
   "outputs": [],
   "source": []
  }
 ],
 "metadata": {
  "kernelspec": {
   "display_name": "Python 3",
   "language": "python",
   "name": "python3"
  },
  "language_info": {
   "codemirror_mode": {
    "name": "ipython",
    "version": 3
   },
   "file_extension": ".py",
   "mimetype": "text/x-python",
   "name": "python",
   "nbconvert_exporter": "python",
   "pygments_lexer": "ipython3",
   "version": "3.8.5"
  }
 },
 "nbformat": 4,
 "nbformat_minor": 4
}
